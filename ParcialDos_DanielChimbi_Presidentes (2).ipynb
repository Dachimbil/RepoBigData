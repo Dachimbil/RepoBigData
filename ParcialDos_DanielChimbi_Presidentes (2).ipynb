{
 "cells": [
  {
   "cell_type": "code",
   "execution_count": 1,
   "metadata": {},
   "outputs": [],
   "source": [
    "# Importamos la librería de BeautifulSoup\n",
    "from bs4 import BeautifulSoup\n",
    "import requests"
   ]
  },
  {
   "cell_type": "code",
   "execution_count": 2,
   "metadata": {},
   "outputs": [],
   "source": [
    "# Apuntamos a la página\n",
    "url = 'https://historiabreve.com/presidentes-de-colombia/'\n",
    "page = requests.get(url)\n",
    "soup = BeautifulSoup(page.text, 'html.parser')"
   ]
  },
  {
   "cell_type": "code",
   "execution_count": 3,
   "metadata": {},
   "outputs": [
    {
     "data": {
      "text/plain": [
       "<table><tbody><tr><td><strong>Núm</strong></td><td><strong>Presidente</strong></td><td><strong>Periodo de gobierno</strong></td></tr><tr><td>1</td><td>Simón Bolívar</td><td>21 de septiembre de 1819 a 20 de noviembre de 1819</td></tr><tr><td>2</td><td>Francisco de Paula Santander</td><td>20 de septiembre de 1819 a 20 de febrero de 1827</td></tr><tr><td>3</td><td>Simón Bolívar </td><td>20 de febrero de 1827 a 4 de mayo de 1830</td></tr><tr><td>4</td><td>Estanislao Vergara</td><td>28 de diciembre de 1828 a 15 de enero de 1830</td></tr><tr><td>5</td><td>Domingo Caycedo Santamaría</td><td>4 de mayo de 1830 a 13 de junio de 1830</td></tr><tr><td>6</td><td>Joaquín Mariano Mosquera </td><td>13 de junio de 1830 a 4 de septiembre de 1830</td></tr><tr><td>7</td><td>Rafael José Urdaneta </td><td>4 de septiembre de 1830 a 30 de abril de 1831</td></tr><tr><td>8</td><td>Juan García del Río</td><td>30 de abril de 1831 a 2 de mayo de 1831</td></tr><tr><td>9</td><td>Joaquín Mariano Mosquera </td><td>2 de mayo de 1831 a 23 de noviembre de 1831</td></tr><tr><td>10</td><td>Domingo Caycedo Santamaría</td><td>3 de mayo de 1831 a 22 de noviembre de 1831</td></tr><tr><td>11</td><td>José María Obando del Campo</td><td>23 de noviembre de 1831 a 10 de marzo de 1832</td></tr><tr><td>12</td><td>Francisco de Paula Santander</td><td>10 de marzo de 1832 a 1 de abril de 1837</td></tr><tr><td>13</td><td>José Ignacio de Márquez Barreto </td><td>1 de abril de 1837 a 1 de abril de 1841</td></tr><tr><td>14</td><td>Pedro Alcántara Herrán de Zaldúa</td><td>1 de abril de 1841 a 1 de abril de 1845</td></tr><tr><td>15</td><td>Juan de Dios Aranzazu</td><td>5 de julio de 1841 a 19 de mayo de 1842</td></tr><tr><td>16</td><td>Tomás Cipriano de Mosquera y Arboleda</td><td>1 de abril de 1845 a 1 de abril de 1849</td></tr><tr><td>17</td><td>Rufino Cuervo</td><td>14 de agosto de 1847 a 14 de diciembre de 1847</td></tr><tr><td>18</td><td>José Hilario López </td><td>1 de abril de 1849 a 1 de abril de 1853</td></tr><tr><td>19</td><td>José María Obando del Campo</td><td>1 de abril de 1853 a 17 de abril de 1854</td></tr><tr><td>20</td><td>José María Melo Ortiz</td><td>17 de abril de 1854 a 4 de diciembre de 1854</td></tr><tr><td>21</td><td>Francisco Antonio Obregón</td><td>20 de mayo de 1854 a 2 de junio de 1854</td></tr><tr><td>22</td><td>Tomás de Herrera</td><td>21 de abril de 1854 a 5 de agosto de 1854</td></tr><tr><td>23</td><td>José de Obaldía y Ojuela</td><td>5 de agosto de 1854 a 1 de abril de 1855</td></tr><tr><td>24</td><td>Manuel María Mallarino Ibargüen</td><td>1 de abril de 1855 a 1 de abril de 1857</td></tr><tr><td>25</td><td>Mariano Ospina Rodríguez</td><td>1 de abril de 1857 a 25 de enero de 1861</td></tr><tr><td>26</td><td>Juan José Nieto Gil</td><td>25 de enero de 1861 a 18 de julio de 1861</td></tr><tr><td>27</td><td>Bartolomé Calvo</td><td>1 de abril de 1861 a 10 de junio de 1861</td></tr><tr><td>28</td><td>Ignacio Gutiérrez Vergara</td><td>Julio de 1861 a agosto de 1861</td></tr><tr><td>29</td><td>Leonardo Canal González</td><td>18 de julio de 1862 a 6 de noviembre de 1862</td></tr><tr><td>30</td><td>Manuel del Río y de Narváez</td><td>6 de noviembre 6 1862 a 16 de enero de 1863</td></tr><tr><td>31</td><td>Tomás Cipriano de Mosquera y Arboleda</td><td>18 de julio de 1861 a 10 de febrero de 1863</td></tr><tr><td>32</td><td>Froilán Largacha</td><td>10 de febrero de 1863 a 14 de mayo de 1863</td></tr><tr><td></td><td>Tomás Cipriano de Mosquera y Arboleda</td><td>10 de febrero de 1863 a 14 de mayo de 1863</td></tr><tr><td></td><td>José Hilario López</td><td>10 de febrero de 1863 a 14 de mayo de 1863</td></tr><tr><td></td><td>Eustorgio Salgar</td><td>10 de febrero de 1863 a 14 de mayo de 1863</td></tr><tr><td></td><td>Santos Gutiérrez Prieto</td><td>10 de febrero de 1863 a 14 de mayo de 1863</td></tr><tr><td>33</td><td>Tomás Cipriano de Mosquera y Arboleda</td><td>14 de mayo de 1863 a 1 de abril de 1864</td></tr><tr><td>34</td><td>Juan Agustín Uricoechea Navarro</td><td>29 de enero de 1864 a 29 de febrero de 1864</td></tr><tr><td>35</td><td>Manuel Murillo Toro</td><td>1 de abril de 1864 a 1 de abril de 1866</td></tr><tr><td>36</td><td>José María Rojas Garrido</td><td>1 de abril de 1866 a 20 de mayo de 1866</td></tr><tr><td>37</td><td>Tomás Cipriano de Mosquera y Arboleda</td><td>20 de mayo de 1866 a 23 de mayo de 1867</td></tr><tr><td>38</td><td>Joaquín Riascos García</td><td>12 de mayo de 1867 a 28 de junio de 1867</td></tr><tr><td>39</td><td>Santos Acosta Castillo</td><td>20 de mayo de 1867 a 1 de abril de 1868</td></tr><tr><td>40</td><td>Santos Gutiérrez Prieto</td><td>1 de abril de 1868 a 1 de abril de 1870</td></tr><tr><td>41</td><td>Salvador Camacho Roldán</td><td>20 de diciembre de 1868 a 2 de enero de 1869</td></tr><tr><td>42</td><td>Eustorgio Salgar</td><td>1 de abril de 1870 a 1 de abril de 1872</td></tr><tr><td>43</td><td>Manuel Murillo Toro</td><td>1 de abril de 1872 a 1 de abril de 1874</td></tr><tr><td>44</td><td>Santiago Pérez Manosalvas</td><td>1 de abril de 1874 a 1 de abril de 1876</td></tr><tr><td>45</td><td>Aquileo Parra Gómez</td><td>1 de abril de 1876 a 1 de abril de 1878</td></tr><tr><td>46</td><td>Sergio Camargo Pinzón</td><td>19 de mayo de 1877 a 13 de agosto de 1877</td></tr><tr><td>47</td><td>Julián Trujillo Largacha</td><td>1 de abril de 1878 a 8 de abril de 1880</td></tr><tr><td>48</td><td>Manuel María Ramírez Fortoul</td><td>22 de diciembre de 1877 a 24 de diciembre de 1877</td></tr><tr><td>49</td><td>Rafael Núñez Moledo</td><td>8 de abril de 1880 a 1 de abril de 1882</td></tr><tr><td>50</td><td>Francisco Javier Zaldua y Racines</td><td>1 de abril de 1882 a 21 de diciembre de 1882</td></tr><tr><td>51</td><td>Climaco Calderón Reyes</td><td>21 de diciembre de 1882 a 22 de diciembre de 1882</td></tr><tr><td>52</td><td>José Eusebio Otálora Martínez</td><td>22 de diciembre de 1882 a 1 de abril de 1884</td></tr><tr><td>53</td><td>Enrique Hurtado</td><td>1 de abril de 1884 a 10 de agosto de 1884</td></tr><tr><td>54</td><td>Rafael Núñez Moledo</td><td>10 de agosto de 1884 a 1 de abril de 1886</td></tr><tr><td>55</td><td>José María Campo Serrano</td><td>1 de abril de 1886 a 6 de enero de 1887</td></tr><tr><td>56</td><td>Eliseo Payán</td><td>7 de enero de 1887 a 4 de junio de 1887</td></tr><tr><td>57</td><td>Rafael Núñez Moledo</td><td>4 de junio de 1887 a 7 de agosto de 1888</td></tr><tr><td>58</td><td>Carlos Holguín Mallarino</td><td>7 de agosto de 1888 a 7 de agosto de 1892</td></tr><tr><td>59</td><td>Rafael Núñez Moledo</td><td>7 de agosto de 1892 a 1894</td></tr><tr><td>60</td><td>Miguel Antonio Caro Tovar</td><td>7 de agosto de 1892 a 7 de agosto de 1898</td></tr><tr><td>61</td><td>Antonio Basilio Cuervo</td><td>16 de enero de 1893 a 17 de enero de 1893</td></tr><tr><td>62</td><td>Guillermo Quintero Calderón</td><td>12 de marzo de 1896 a 17 de marzo de 1896</td></tr><tr><td>63</td><td>José Manuel Marroquín Ricaurte</td><td>31 de julio de 1900 a 7 de agosto de 1904</td></tr><tr><td>64</td><td>Rafael Reyes Prieto</td><td>7 de agosto de 1904 a 9 de junio de 1909</td></tr><tr><td>65</td><td>Diego Euclides de Angulo Lemos</td><td>9 de marzo de 1908 a 14 de abril de 1908</td></tr><tr><td>66</td><td>Jorge Holguín Mallarino</td><td>9 de junio de 1909 a 4 de agosto de 1909</td></tr><tr><td>67</td><td>Ramón González Valencia</td><td>4 de agosto de 1909 a 7 de agosto de 1910</td></tr><tr><td>68</td><td>Carlos Eugenio Restrepo Restrepo</td><td>7 de agosto de 1910 a 7 de agosto de 1914</td></tr><tr><td>69</td><td>José Vicente Concha</td><td>7 de agosto de 1914 a 7 de agosto de 1918</td></tr><tr><td>70</td><td>Marco Fidel Suárez</td><td>7 de agosto de 1918 a 11 de noviembre de 1921</td></tr><tr><td>71</td><td>Jorge Holguín Mallarino</td><td>11 de noviembre de 1921 a 7 de agosto de 1922</td></tr><tr><td>72</td><td>Pedro Nel Ospina Vásquez</td><td>7 de agosto de 1922 a 7 de agosto de 1926</td></tr><tr><td>73</td><td>Miguel Abadía Méndez</td><td>7 de agosto de 1926 a 7 de agosto de 1930</td></tr><tr><td>74</td><td>Enrique Olaya Herrera</td><td>7 de agosto de 1930 a 7 de agosto de 1934</td></tr><tr><td>75</td><td>Alfonso López Pumarejo</td><td>7 de agosto de 1934 a 7 de agosto de 1938</td></tr><tr><td>76</td><td>Eduardo Santos Montejo</td><td>7 de agosto de 1938 a 7 de agosto de 1942</td></tr><tr><td>77</td><td>Alfonso López Pumarejo</td><td>7 de agosto de 1942 a 7 de agosto de 1945</td></tr><tr><td>78</td><td>Carlos Lozano y Lozano</td><td>9 de octubre de 1942 a 19 de octubre de 1942</td></tr><tr><td>79</td><td>Darío Echandía Olaya</td><td>19 de octubre de 1943 a 16 de mayo de 1944</td></tr><tr><td>80</td><td>Alberto Lleras Camargo</td><td>7 de agosto de 1945 a 7 de agosto de 1946</td></tr><tr><td>81</td><td>Mariano Ospina Pérez</td><td>7 de agosto de 1946 a 7 de agosto de 1950</td></tr><tr><td>82</td><td>Laureano Gómez Castro</td><td>7 de agosto de 1950 a 5 de noviembre de 1951</td></tr><tr><td>83</td><td>Roberto Urdaneta Arbeláez</td><td>5 de noviembre de 1951 a 13 de junio de 1953</td></tr><tr><td>84</td><td>Gustavo Rojas Pinilla</td><td>13 de junio de 1953 a 10 de mayo de 1957</td></tr><tr><td>85</td><td>Gabriel París Gordillo</td><td>10 de mayo de 1957 a 7 de agosto de 1958</td></tr><tr><td>86</td><td>Deogracias Fonseca Espinosa</td><td>10 de mayo de 1957 a 7 de agosto de 1958</td></tr><tr><td>87</td><td>Rubén Piedrahita Arango</td><td>10 de mayo de 1957 a 7 de agosto de 1958</td></tr><tr><td>88</td><td>Rafael Navas Pardo</td><td>10 de mayo de 1957 a 7 de agosto de 1958</td></tr><tr><td>89</td><td>Luis Ernesto Ordoñez Castillo</td><td>10 de mayo de 1957 – 7 de agosto de 1958</td></tr><tr><td>90</td><td>Alberto Lleras Camargo</td><td>7 de agosto de 1958 – 7 de agosto de 1962</td></tr><tr><td>91</td><td>Guillermo León Valencia</td><td>7 de agosto de 1962 – 7 de agosto de 1966</td></tr><tr><td>92</td><td>José Antonio Montalvo Berbeo</td><td>6 de agosto de 1963 – 8 de agosto de 1963</td></tr><tr><td>93</td><td>Carlos Lleras Restrepo</td><td>7 de agosto de 1962 – 7 de agosto de 1966</td></tr><tr><td>94</td><td>Misael Pastrana Borrero</td><td>7 de agosto de 1970 – 7 de agosto de 1974</td></tr><tr><td>95</td><td>Rafael Azuero Manchola</td><td>21 de julio de 1973 – 24 de julio de 1973</td></tr><tr><td>96</td><td>Alfonso López Michelsen</td><td>21 de julio de 1973 – 24 de julio de 1973</td></tr><tr><td>97</td><td>Indalecio Liévano Aguirre</td><td>Octubre de 1976 a  1976</td></tr><tr><td>98</td><td>Julio César Turbay Ayala</td><td>7 de agosto de 1978 – 7 de agosto de 1982</td></tr><tr><td>99</td><td>Víctor Mosquera Chaux</td><td>3 de febrero de 1981 – 11 de febrero de 1981</td></tr><tr><td>100</td><td>Belisario Betancur Cuartas</td><td>7 de agosto de 1982 – 7 de agosto de 1986</td></tr><tr><td>101</td><td>Virgilio Barco Vargas</td><td>7 de agosto de 1986 – 7 de agosto de 1990</td></tr><tr><td>102</td><td>César Gaviria Trujillo</td><td>7 de agosto de 1990 – 7 de agosto de 1994</td></tr><tr><td>103</td><td>Ernesto Samper Pizano</td><td>7 de agosto de 1994 – 7 de agosto de 1998</td></tr><tr><td>104</td><td>Andrés Pastrana Arango</td><td>7 de agosto de 1998 – 7 de agosto de 2002</td></tr><tr><td>105</td><td>Álvaro Uribe Vélez</td><td>7 de agosto de 2002 – 7 de agosto de 2010</td></tr><tr><td>106</td><td>Juan Manuel Santos Calderón</td><td>7 de agosto de 2014 – 7 de agosto de 2018</td></tr><tr><td>107</td><td>Iván Duque Márquez</td><td>7 de agosto de 2018 – actualidad</td></tr></tbody></table>"
      ]
     },
     "execution_count": 3,
     "metadata": {},
     "output_type": "execute_result"
    }
   ],
   "source": [
    "# Apuntamos a la tabla de los presidentes.\n",
    "tabla = soup.find('table')\n",
    "tabla"
   ]
  },
  {
   "cell_type": "code",
   "execution_count": 4,
   "metadata": {},
   "outputs": [
    {
     "data": {
      "text/plain": [
       "['NúmPresidentePeriodo de gobierno',\n",
       " '1Simón Bolívar21 de septiembre de 1819 a 20 de noviembre de 1819',\n",
       " '2Francisco de Paula Santander20 de septiembre de 1819 a 20 de febrero de 1827',\n",
       " '3Simón Bolívar\\xa020 de febrero de 1827 a 4 de mayo de 1830',\n",
       " '4Estanislao Vergara28 de diciembre de 1828 a 15 de enero de 1830',\n",
       " '5Domingo Caycedo Santamaría4 de mayo de 1830 a 13 de junio de 1830',\n",
       " '6Joaquín Mariano Mosquera\\xa013 de junio de 1830 a 4 de septiembre de 1830',\n",
       " '7Rafael José Urdaneta\\xa04 de septiembre de 1830 a 30 de abril de 1831',\n",
       " '8Juan García del Río30 de abril de 1831 a 2 de mayo de 1831',\n",
       " '9Joaquín Mariano Mosquera\\xa02 de mayo de 1831 a 23 de noviembre de 1831',\n",
       " '10Domingo Caycedo Santamaría3 de mayo de 1831 a 22 de noviembre de 1831',\n",
       " '11José María Obando del Campo23 de noviembre de 1831 a 10 de marzo de 1832',\n",
       " '12Francisco de Paula Santander10 de marzo de 1832 a 1 de abril de 1837',\n",
       " '13José Ignacio de Márquez Barreto\\xa01 de abril de 1837 a 1 de abril de 1841',\n",
       " '14Pedro Alcántara Herrán de Zaldúa1 de abril de 1841 a 1 de abril de 1845',\n",
       " '15Juan de Dios Aranzazu5 de julio de 1841 a 19 de mayo de 1842',\n",
       " '16Tomás Cipriano de Mosquera y Arboleda1 de abril de 1845 a 1 de abril de 1849',\n",
       " '17Rufino Cuervo14 de agosto de 1847 a 14 de diciembre de 1847',\n",
       " '18José Hilario López\\xa01 de abril de 1849 a 1 de abril de 1853',\n",
       " '19José María Obando del Campo1 de abril de 1853 a 17 de abril de 1854',\n",
       " '20José María Melo Ortiz17 de abril de 1854 a 4 de diciembre de 1854',\n",
       " '21Francisco Antonio Obregón20 de mayo de 1854 a 2 de junio de 1854',\n",
       " '22Tomás de Herrera21 de abril de 1854 a 5 de agosto de 1854',\n",
       " '23José de Obaldía y Ojuela5 de agosto de 1854 a 1 de abril de 1855',\n",
       " '24Manuel María Mallarino Ibargüen1 de abril de 1855 a 1 de abril de 1857',\n",
       " '25Mariano Ospina Rodríguez1 de abril de 1857 a 25 de enero de 1861',\n",
       " '26Juan José Nieto Gil25 de enero de 1861 a 18 de julio de 1861',\n",
       " '27Bartolomé Calvo1 de abril de 1861 a 10 de junio de 1861',\n",
       " '28Ignacio Gutiérrez VergaraJulio de 1861 a agosto de 1861',\n",
       " '29Leonardo Canal González18 de julio de 1862 a 6 de noviembre de 1862',\n",
       " '30Manuel del Río y de Narváez6 de noviembre 6 1862 a 16 de enero de 1863',\n",
       " '31Tomás Cipriano de Mosquera y Arboleda18 de julio de 1861 a 10 de febrero de 1863',\n",
       " '32Froilán Largacha10 de febrero de 1863 a 14 de mayo de 1863',\n",
       " 'Tomás Cipriano de Mosquera y Arboleda10 de febrero de 1863 a 14 de mayo de 1863',\n",
       " 'José Hilario López10 de febrero de 1863 a 14 de mayo de 1863',\n",
       " 'Eustorgio Salgar10 de febrero de 1863 a 14 de mayo de 1863',\n",
       " 'Santos Gutiérrez Prieto10 de febrero de 1863 a 14 de mayo de 1863',\n",
       " '33Tomás Cipriano de Mosquera y Arboleda14 de mayo de 1863 a 1 de abril de 1864',\n",
       " '34Juan Agustín Uricoechea Navarro29 de enero de 1864 a 29 de febrero de 1864',\n",
       " '35Manuel Murillo Toro1 de abril de 1864 a 1 de abril de 1866',\n",
       " '36José María Rojas Garrido1 de abril de 1866 a 20 de mayo de 1866',\n",
       " '37Tomás Cipriano de Mosquera y Arboleda20 de mayo de 1866 a 23 de mayo de 1867',\n",
       " '38Joaquín Riascos García12 de mayo de 1867 a 28 de junio de 1867',\n",
       " '39Santos Acosta Castillo20 de mayo de 1867 a 1 de abril de 1868',\n",
       " '40Santos Gutiérrez Prieto1 de abril de 1868 a 1 de abril de 1870',\n",
       " '41Salvador Camacho Roldán20 de diciembre de 1868 a 2 de enero de 1869',\n",
       " '42Eustorgio Salgar1 de abril de 1870 a 1 de abril de 1872',\n",
       " '43Manuel Murillo Toro1 de abril de 1872 a 1 de abril de 1874',\n",
       " '44Santiago Pérez Manosalvas1 de abril de 1874 a 1 de abril de 1876',\n",
       " '45Aquileo Parra Gómez1 de abril de 1876 a 1 de abril de 1878',\n",
       " '46Sergio Camargo Pinzón19 de mayo de 1877 a 13 de agosto de 1877',\n",
       " '47Julián Trujillo Largacha1 de abril de 1878 a 8 de abril de 1880',\n",
       " '48Manuel María Ramírez Fortoul22 de diciembre de 1877 a 24 de diciembre de 1877',\n",
       " '49Rafael Núñez Moledo8 de abril de 1880 a 1 de abril de 1882',\n",
       " '50Francisco Javier Zaldua y Racines1 de abril de 1882 a 21 de diciembre de 1882',\n",
       " '51Climaco Calderón Reyes21 de diciembre de 1882 a 22 de diciembre de 1882',\n",
       " '52José Eusebio Otálora Martínez22 de diciembre de 1882 a 1 de abril de 1884',\n",
       " '53Enrique Hurtado1 de abril de 1884 a 10 de agosto de 1884',\n",
       " '54Rafael Núñez Moledo10 de agosto de 1884 a 1 de abril de 1886',\n",
       " '55José María Campo Serrano1 de abril de 1886 a 6 de enero de 1887',\n",
       " '56Eliseo Payán7 de enero de 1887 a 4 de junio de 1887',\n",
       " '57Rafael Núñez Moledo4 de junio de 1887 a 7 de agosto de 1888',\n",
       " '58Carlos Holguín Mallarino7 de agosto de 1888 a 7 de agosto de 1892',\n",
       " '59Rafael Núñez Moledo7 de agosto de 1892 a 1894',\n",
       " '60Miguel Antonio Caro Tovar7 de agosto de 1892 a 7 de agosto de 1898',\n",
       " '61Antonio Basilio Cuervo16 de enero de 1893 a 17 de enero de 1893',\n",
       " '62Guillermo Quintero Calderón12 de marzo de 1896 a 17 de marzo de 1896',\n",
       " '63José Manuel Marroquín Ricaurte31 de julio de 1900 a 7 de agosto de 1904',\n",
       " '64Rafael Reyes Prieto7 de agosto de 1904 a 9 de junio de 1909',\n",
       " '65Diego Euclides de Angulo Lemos9 de marzo de 1908 a 14 de abril de 1908',\n",
       " '66Jorge Holguín Mallarino9 de junio de 1909 a 4 de agosto de 1909',\n",
       " '67Ramón González Valencia4 de agosto de 1909 a 7 de agosto de 1910',\n",
       " '68Carlos Eugenio Restrepo Restrepo7 de agosto de 1910 a 7 de agosto de 1914',\n",
       " '69José Vicente Concha7 de agosto de 1914 a 7 de agosto de 1918',\n",
       " '70Marco Fidel Suárez7 de agosto de 1918 a 11 de noviembre de 1921',\n",
       " '71Jorge Holguín Mallarino11 de noviembre de 1921 a 7 de agosto de 1922',\n",
       " '72Pedro Nel Ospina Vásquez7 de agosto de 1922 a 7 de agosto de 1926',\n",
       " '73Miguel Abadía Méndez7 de agosto de 1926 a 7 de agosto de 1930',\n",
       " '74Enrique Olaya Herrera7 de agosto de 1930 a 7 de agosto de 1934',\n",
       " '75Alfonso López Pumarejo7 de agosto de 1934 a 7 de agosto de 1938',\n",
       " '76Eduardo Santos Montejo7 de agosto de 1938 a 7 de agosto de 1942',\n",
       " '77Alfonso López Pumarejo7 de agosto de 1942 a 7 de agosto de 1945',\n",
       " '78Carlos Lozano y Lozano9 de octubre de 1942 a 19 de octubre de 1942',\n",
       " '79Darío Echandía Olaya19 de octubre de 1943 a 16 de mayo de 1944',\n",
       " '80Alberto Lleras Camargo7 de agosto de 1945 a 7 de agosto de 1946',\n",
       " '81Mariano Ospina Pérez7 de agosto de 1946 a 7 de agosto de 1950',\n",
       " '82Laureano Gómez Castro7 de agosto de 1950 a 5 de noviembre de 1951',\n",
       " '83Roberto Urdaneta Arbeláez5 de noviembre de 1951 a 13 de junio de 1953',\n",
       " '84Gustavo Rojas Pinilla13 de junio de 1953 a 10 de mayo de 1957',\n",
       " '85Gabriel París Gordillo10 de mayo de 1957 a 7 de agosto de 1958',\n",
       " '86Deogracias Fonseca Espinosa10 de mayo de 1957 a 7 de agosto de 1958',\n",
       " '87Rubén Piedrahita Arango10 de mayo de 1957 a 7 de agosto de 1958',\n",
       " '88Rafael Navas Pardo10 de mayo de 1957 a 7 de agosto de 1958',\n",
       " '89Luis Ernesto Ordoñez Castillo10 de mayo de 1957 – 7 de agosto de 1958',\n",
       " '90Alberto Lleras Camargo7 de agosto de 1958 – 7 de agosto de 1962',\n",
       " '91Guillermo León Valencia7 de agosto de 1962 – 7 de agosto de 1966',\n",
       " '92José Antonio Montalvo Berbeo6 de agosto de 1963 – 8 de agosto de 1963',\n",
       " '93Carlos Lleras Restrepo7 de agosto de 1962 – 7 de agosto de 1966',\n",
       " '94Misael Pastrana Borrero7 de agosto de 1970 – 7 de agosto de 1974',\n",
       " '95Rafael Azuero Manchola21 de julio de 1973 – 24 de julio de 1973',\n",
       " '96Alfonso López Michelsen21 de julio de 1973 – 24 de julio de 1973',\n",
       " '97Indalecio Liévano AguirreOctubre de 1976 a\\xa0 1976',\n",
       " '98Julio César Turbay Ayala7 de agosto de 1978 – 7 de agosto de 1982',\n",
       " '99Víctor Mosquera Chaux3 de febrero de 1981 – 11 de febrero de 1981',\n",
       " '100Belisario Betancur Cuartas7 de agosto de 1982 – 7 de agosto de 1986',\n",
       " '101Virgilio Barco Vargas7 de agosto de 1986 – 7 de agosto de 1990',\n",
       " '102César Gaviria Trujillo7 de agosto de 1990 – 7 de agosto de 1994',\n",
       " '103Ernesto Samper Pizano7 de agosto de 1994 – 7 de agosto de 1998',\n",
       " '104Andrés Pastrana Arango7 de agosto de 1998 – 7 de agosto de 2002',\n",
       " '105Álvaro Uribe Vélez7 de agosto de 2002 – 7 de agosto de 2010',\n",
       " '106Juan Manuel Santos Calderón7 de agosto de 2014 – 7 de agosto de 2018',\n",
       " '107Iván Duque Márquez7 de agosto de 2018 – actualidad']"
      ]
     },
     "execution_count": 4,
     "metadata": {},
     "output_type": "execute_result"
    }
   ],
   "source": [
    "# Imprimimos la información\n",
    "headers = []\n",
    "\n",
    "for i in tabla.find_all('tr'):\n",
    "    title = i.text.strip()\n",
    "    headers.append(title)\n",
    "    \n",
    "headers"
   ]
  },
  {
   "cell_type": "code",
   "execution_count": null,
   "metadata": {},
   "outputs": [],
   "source": []
  }
 ],
 "metadata": {
  "kernelspec": {
   "display_name": "Python 3",
   "language": "python",
   "name": "python3"
  },
  "language_info": {
   "codemirror_mode": {
    "name": "ipython",
    "version": 3
   },
   "file_extension": ".py",
   "mimetype": "text/x-python",
   "name": "python",
   "nbconvert_exporter": "python",
   "pygments_lexer": "ipython3",
   "version": "3.8.8"
  }
 },
 "nbformat": 4,
 "nbformat_minor": 4
}
